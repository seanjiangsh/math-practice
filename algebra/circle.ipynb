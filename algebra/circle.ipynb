{
 "cells": [
  {
   "cell_type": "markdown",
   "metadata": {},
   "source": [
    "# Circle Equations"
   ]
  },
  {
   "cell_type": "markdown",
   "metadata": {},
   "source": [
    "The standard form for the equation of a circle is:\n",
    "\n",
    "`(x - h)^2 + (y - k)^2 = r^2`\n",
    "\n",
    "`r` = radius\n",
    "\n",
    "`(h,k)` = coordinates of the center"
   ]
  },
  {
   "cell_type": "code",
   "execution_count": 9,
   "metadata": {},
   "outputs": [],
   "source": [
    "from sympy import symbols, Rational, simplify, sqrt\n",
    "\n",
    "def find_circle_equation(A, B, D, E, F):\n",
    "    # Define the variables x and y\n",
    "    x, y = symbols('x y')\n",
    "    \n",
    "    # Normalize the coefficients using Rational to avoid floating-point errors\n",
    "    if A != 1 or B != 1:\n",
    "        D = Rational(D, A)\n",
    "        E = Rational(E, B)\n",
    "        F = Rational(F, A)  # Assume A == B for a circle, otherwise adjust differently\n",
    "    \n",
    "    # Completing the square for x\n",
    "    h = Rational(-D, 2)\n",
    "    x_term = f\"(x + {-h})\" if h < 0 else f\"(x - {h})\"\n",
    "    \n",
    "    # Completing the square for y\n",
    "    k = Rational(-E, 2)\n",
    "    y_term = f\"(y + {-k})\" if k < 0 else f\"(y - {k})\"\n",
    "    \n",
    "    # Radius squared\n",
    "    r_squared = simplify(h**2 + k**2 - F)\n",
    "    radius = sqrt(r_squared)\n",
    "    \n",
    "    # Form the equation in a more intuitive format\n",
    "    circle_equation = f\"{x_term}^2 + {y_term}^2 = {r_squared}\"\n",
    "    \n",
    "    # Return the equation, center, and radius\n",
    "    center = (h, k)\n",
    "    return circle_equation, center, radius\n"
   ]
  },
  {
   "cell_type": "code",
   "execution_count": 10,
   "metadata": {},
   "outputs": [
    {
     "name": "stdout",
     "output_type": "stream",
     "text": [
      "The equation of the circle is: (x + 12)^2 + (y + 5)^2 = 9\n",
      "The center of the circle is: (-12, -5)\n",
      "The radius of the circle is: 3\n"
     ]
    }
   ],
   "source": [
    "# x^2 + y^2 + 24x + 10y + 160 = 0\n",
    "A, B, D, E, F = 1, 1, 24, 10, 160\n",
    "circle_eq, center, radius = find_circle_equation(A, B, D, E, F)\n",
    "\n",
    "print(f\"The equation of the circle is: {circle_eq}\")\n",
    "print(f\"The center of the circle is: {center}\")\n",
    "print(f\"The radius of the circle is: {radius}\")"
   ]
  },
  {
   "cell_type": "code",
   "execution_count": 11,
   "metadata": {},
   "outputs": [
    {
     "name": "stdout",
     "output_type": "stream",
     "text": [
      "The equation of the circle is: (x + 1)^2 + (y - 0)^2 = 19/6\n",
      "The center of the circle is: (-1, 0)\n",
      "The radius of the circle is: sqrt(114)/6\n"
     ]
    }
   ],
   "source": [
    "# 6x^2 + 6y^2 + 12x - 13 = 0\n",
    "A, B, D, E, F = 6, 6, 12, 0, -13\n",
    "circle_eq, center, radius = find_circle_equation(A, B, D, E, F)\n",
    "\n",
    "print(f\"The equation of the circle is: {circle_eq}\")\n",
    "print(f\"The center of the circle is: {center}\")\n",
    "print(f\"The radius of the circle is: {radius}\")"
   ]
  },
  {
   "cell_type": "code",
   "execution_count": 12,
   "metadata": {},
   "outputs": [
    {
     "name": "stdout",
     "output_type": "stream",
     "text": [
      "The equation of the circle is: (x + 1/2)^2 + (y - 3/2)^2 = 9/4\n",
      "The center of the circle is: (-1/2, 3/2)\n",
      "The radius of the circle is: 3/2\n"
     ]
    }
   ],
   "source": [
    "# 4x^2 + 4y^2 + 4x - 12y + 1 = 0\n",
    "A, B, D, E, F = 4, 4, 4, -12, 1\n",
    "circle_eq, center, radius = find_circle_equation(A, B, D, E, F)\n",
    "\n",
    "print(f\"The equation of the circle is: {circle_eq}\")\n",
    "print(f\"The center of the circle is: {center}\")\n",
    "print(f\"The radius of the circle is: {radius}\")"
   ]
  },
  {
   "cell_type": "code",
   "execution_count": 13,
   "metadata": {},
   "outputs": [
    {
     "name": "stdout",
     "output_type": "stream",
     "text": [
      "The equation of the circle is: (x - 0)^2 + (y - 3)^2 = 14\n",
      "The center of the circle is: (0, 3)\n",
      "The radius of the circle is: sqrt(14)\n"
     ]
    }
   ],
   "source": [
    "# x^2 + y^2 - 6y = 5\n",
    "A, B, D, E, F = 1, 1, 0, -6, -5\n",
    "circle_eq, center, radius = find_circle_equation(A, B, D, E, F)\n",
    "\n",
    "print(f\"The equation of the circle is: {circle_eq}\")\n",
    "print(f\"The center of the circle is: {center}\")\n",
    "print(f\"The radius of the circle is: {radius}\")\n"
   ]
  },
  {
   "cell_type": "code",
   "execution_count": 14,
   "metadata": {},
   "outputs": [
    {
     "name": "stdout",
     "output_type": "stream",
     "text": [
      "The equation of the circle is: (x + 5)^2 + (y - 2)^2 = 16\n",
      "The center of the circle is: (-5, 2)\n",
      "The radius of the circle is: 4\n"
     ]
    }
   ],
   "source": [
    "# x^2 + 10x + y^2 - 4y + 13 = 0\n",
    "A, B, D, E, F = 1, 1, 10, -4, 13\n",
    "circle_eq, center, radius = find_circle_equation(A, B, D, E, F)\n",
    "\n",
    "print(f\"The equation of the circle is: {circle_eq}\")\n",
    "print(f\"The center of the circle is: {center}\")\n",
    "print(f\"The radius of the circle is: {radius}\")"
   ]
  },
  {
   "cell_type": "markdown",
   "metadata": {},
   "source": [
    "## Plotting Circle"
   ]
  },
  {
   "cell_type": "code",
   "execution_count": 15,
   "metadata": {},
   "outputs": [],
   "source": [
    "import matplotlib.pyplot as plt\n",
    "import numpy as np\n",
    "\n",
    "from plotting_utils import setup_plot\n",
    "from numpy import ndarray\n",
    "from typing import TypedDict, Optional\n",
    "\n",
    "class CircleDict(TypedDict):\n",
    "    h: ndarray[float]\n",
    "    k: ndarray[float]\n",
    "    r: ndarray[float]\n",
    "    color: Optional[str]\n",
    "    linestyle: Optional[str]\n",
    "    label: Optional[str]\n",
    "\n",
    "def plot_circle(circles:list[CircleDict], title:str='Circle Plot'):\n",
    "    # Generate angles for parametric circle equation\n",
    "    theta = np.linspace(0, 2 * np.pi, 400)\n",
    "\n",
    "    # Set aspect ratio to be equal\n",
    "    plt.gca().set_aspect('equal', adjustable='box')\n",
    "    \n",
    "    for circle in circles:\n",
    "        # Parametric equation of a circle\n",
    "        x = circle['h'] + circle['r'] * np.cos(theta)\n",
    "        y = circle['k'] + circle['r'] * np.sin(theta)\n",
    "        color = circle.get('color', 'blue')\n",
    "        linestyle = circle.get('linestyle', '-')\n",
    "        label = circle.get('label', None)\n",
    "        plt.plot(x, y, color=color, linestyle=linestyle, label=label)\n",
    "    \n",
    "    setup_plot()\n",
    "    plt.xlabel('x')\n",
    "    plt.ylabel('y', rotation=0)\n",
    "    plt.title(title)\n",
    "    \n",
    "    # Check if any circle has a label and add legend if true\n",
    "    has_label = any(map(lambda circle: isinstance(circle.get('label'), str), circles))\n",
    "    if has_label:\n",
    "        plt.legend()\n",
    "\n",
    "    # Show plot\n",
    "    plt.show()\n"
   ]
  },
  {
   "cell_type": "code",
   "execution_count": 16,
   "metadata": {},
   "outputs": [
    {
     "data": {
      "image/png": "[encoded data removed]",
      "text/plain": [
       "<Figure size 640x480 with 1 Axes>"
      ]
     },
     "metadata": {},
     "output_type": "display_data"
    }
   ],
   "source": [
    "# (x-2)^2 + (y+3)^2 = 9\n",
    "circles = [{\n",
    "    'h': 2,\n",
    "    'k': -3,\n",
    "    'r': 3,\n",
    "    'color': 'blue',\n",
    "    'linestyle': '-',\n",
    "}]\n",
    "plot_circle(circles, '$(x-2)^2 + (y+3)^2 = 9$')"
   ]
  },
  {
   "cell_type": "code",
   "execution_count": null,
   "metadata": {},
   "outputs": [],
   "source": []
  }
 ],
 "metadata": {
  "kernelspec": {
   "display_name": "venv",
   "language": "python",
   "name": "python3"
  },
  "language_info": {
   "codemirror_mode": {
    "name": "ipython",
    "version": 3
   },
   "file_extension": ".py",
   "mimetype": "text/x-python",
   "name": "python",
   "nbconvert_exporter": "python",
   "pygments_lexer": "ipython3",
   "version": "3.12.4"
  }
 },
 "nbformat": 4,
 "nbformat_minor": 2
}
