{
 "cells": [
  {
   "cell_type": "markdown",
   "metadata": {},
   "source": [
    "# A Testing Space for Solving \"Parabolas\" with Python"
   ]
  },
  {
   "cell_type": "markdown",
   "metadata": {},
   "source": [
    "## Utilities"
   ]
  },
  {
   "cell_type": "code",
   "execution_count": 15,
   "metadata": {},
   "outputs": [],
   "source": [
    "import sympy as sp"
   ]
  },
  {
   "cell_type": "code",
   "execution_count": 16,
   "metadata": {},
   "outputs": [],
   "source": [
    "from sympy import symbols, simplify, Rational\n",
    "\n",
    "def quadratic_to_vertex(a:float, b:float, c:float):\n",
    "    # Define the variable x\n",
    "    x = symbols('x')\n",
    "    \n",
    "    # Use Rational to avoid floating-point division\n",
    "    a = Rational(a)\n",
    "    b = Rational(b)\n",
    "    c = Rational(c)\n",
    "    \n",
    "    # Calculate h (x-coordinate of the vertex, also the axis of symmetry)\n",
    "    h = -b / (2 * a)\n",
    "    \n",
    "    # Calculate k (y-coordinate of the vertex)\n",
    "    k = c - (b ** 2) / (4 * a)\n",
    "    \n",
    "    # Form the vertex equation\n",
    "    vertex_form = a * (x - h)**2 + k\n",
    "    \n",
    "    # Simplify the expression\n",
    "    vertex_form_simplified = simplify(vertex_form)\n",
    "    \n",
    "    # Vertex is (h, k)\n",
    "    vertex = (h, k)\n",
    "    \n",
    "    return vertex_form_simplified,  vertex\n"
   ]
  },
  {
   "cell_type": "code",
   "execution_count": 17,
   "metadata": {},
   "outputs": [
    {
     "name": "stdout",
     "output_type": "stream",
     "text": [
      "The vertex form of the equation is: y = 2*(x + 9)**2 + 8\n",
      "The vertex is: (-9, 8)\n"
     ]
    }
   ],
   "source": [
    "# y = 2x^2 + 36x + 170\n",
    "\n",
    "a, b, c = 2, 36, 170  # Coefficients of the quadratic equation y = 2x^2 + 36x + 170\n",
    "vertex_form, vertex = quadratic_to_vertex(a, b, c)\n",
    "\n",
    "print(f\"The vertex form of the equation is: y = {vertex_form}\")\n",
    "print(f\"The vertex is: {vertex}\")\n"
   ]
  }
 ],
 "metadata": {
  "kernelspec": {
   "display_name": "venv",
   "language": "python",
   "name": "python3"
  },
  "language_info": {
   "codemirror_mode": {
    "name": "ipython",
    "version": 3
   },
   "file_extension": ".py",
   "mimetype": "text/x-python",
   "name": "python",
   "nbconvert_exporter": "python",
   "pygments_lexer": "ipython3",
   "version": "3.12.4"
  }
 },
 "nbformat": 4,
 "nbformat_minor": 2
}
