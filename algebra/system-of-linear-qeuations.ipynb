{
 "cells": [
  {
   "cell_type": "markdown",
   "metadata": {},
   "source": [
    "# A Testing Space for Solving \"System of Linear Equations\" with Python"
   ]
  },
  {
   "cell_type": "markdown",
   "metadata": {},
   "source": [
    "## Utilities"
   ]
  },
  {
   "cell_type": "code",
   "execution_count": 1,
   "metadata": {},
   "outputs": [],
   "source": [
    "import numpy as np\n",
    "\n",
    "def solve_system_of_linear_equations(A:np.array, B:np.array):\n",
    "    # Check the rank of A and augmented matrix [A|B]\n",
    "    rank_A = np.linalg.matrix_rank(A)\n",
    "    augmented_matrix = np.column_stack((A, B))\n",
    "    rank_augmented = np.linalg.matrix_rank(augmented_matrix)\n",
    "\n",
    "    if rank_A == rank_augmented:\n",
    "        if rank_A == A.shape[1]:\n",
    "            # Unique solution exists\n",
    "            solution = np.linalg.solve(A, B)\n",
    "            print(f\"Unique solution: {[float(val) for val in solution]}\")\n",
    "        else:\n",
    "            # Infinitely many solutions (dependent system)\n",
    "            print(\"The system has infinitely many solutions.\")\n",
    "    else:\n",
    "        # No solution (inconsistent system)\n",
    "        print(\"The system has no solution.\")\n"
   ]
  },
  {
   "cell_type": "code",
   "execution_count": 2,
   "metadata": {},
   "outputs": [
    {
     "name": "stdout",
     "output_type": "stream",
     "text": [
      "Unique solution: [1.0, -0.0, -1.0]\n"
     ]
    }
   ],
   "source": [
    "# 2x + y − z = 3\n",
    "# x − y + z= 0\n",
    "# x − 2y − 3z = 4\n",
    "\n",
    "# Coefficient matrix A\n",
    "A = np.array([\n",
    "    [2, 1, -1],\n",
    "    [1, -1, 1],\n",
    "    [1, -2, -3]\n",
    "])\n",
    "\n",
    "# Constants matrix B\n",
    "B = np.array([3, 0, 4])\n",
    "\n",
    "solve_system_of_linear_equations(A, B)"
   ]
  },
  {
   "cell_type": "code",
   "execution_count": 3,
   "metadata": {},
   "outputs": [
    {
     "name": "stdout",
     "output_type": "stream",
     "text": [
      "Unique solution: [2.0, -3.0, 5.0]\n"
     ]
    }
   ],
   "source": [
    "# 3x + y − z = −2\n",
    "# x − 2y + 3z = 23\n",
    "# 2x + 3y + 2z = 5\n",
    "\n",
    "# Coefficient matrix A\n",
    "A = np.array([\n",
    "    [3, 1, -1],\n",
    "    [1, -2, 3],\n",
    "    [2, 3, 2]\n",
    "])\n",
    "\n",
    "# Constants matrix B\n",
    "B = np.array([-2, 23, 5])\n",
    "\n",
    "solve_system_of_linear_equations(A, B)"
   ]
  },
  {
   "cell_type": "code",
   "execution_count": 4,
   "metadata": {},
   "outputs": [
    {
     "name": "stdout",
     "output_type": "stream",
     "text": [
      "The system has infinitely many solutions.\n"
     ]
    }
   ],
   "source": [
    "# 2x − y + z = 9\n",
    "# 4x − 2y + 2z = 18\n",
    "# −2x + y − z = −9\n",
    "\n",
    "# Coefficient matrix A\n",
    "A = np.array([\n",
    "    [2, -1, 1],\n",
    "    [4, -2, 2],\n",
    "    [-2, 1, -1]\n",
    "])\n",
    "\n",
    "# Constants matrix B\n",
    "B = np.array([9, 18, -9])\n",
    "\n",
    "solve_system_of_linear_equations(A, B)"
   ]
  },
  {
   "cell_type": "code",
   "execution_count": 5,
   "metadata": {},
   "outputs": [
    {
     "name": "stdout",
     "output_type": "stream",
     "text": [
      "The system has no solution.\n"
     ]
    }
   ],
   "source": [
    "# −x + y − z = 12\n",
    "# x − y + z = 2\n",
    "# 2x − 2y + 2z = 9\n",
    "\n",
    "# Coefficient matrix A\n",
    "A = np.array([\n",
    "    [-1, 1, -1],\n",
    "    [1, -1, 1],\n",
    "    [2, -2, 2]\n",
    "])\n",
    "\n",
    "# Constants matrix B\n",
    "B = np.array([12, 2, 9])\n",
    "\n",
    "solve_system_of_linear_equations(A, B)"
   ]
  },
  {
   "cell_type": "code",
   "execution_count": 6,
   "metadata": {},
   "outputs": [
    {
     "name": "stdout",
     "output_type": "stream",
     "text": [
      "Unique solution: [47.000000000000014, 30.000000000000007]\n"
     ]
    }
   ],
   "source": [
    "# The Question:\n",
    "# 10 years ago, Tim was three years younger than twice Sally’s age.\n",
    "# 17 years from now Sally will be seven years older than 5/8 of Tim’s age.\n",
    "# How old are Sally and Tim now?\n",
    "\n",
    "# 2(S−10) − 3 = T−10 equals T - 2S = -13\n",
    "# S + 17 - 7 = 5/8(T + 17) equals -5T + 8S = 5\n",
    "\n",
    "# Coefficient matrix A\n",
    "A = np.array([\n",
    "    [1, -2],\n",
    "    [-5, 8]\n",
    "])\n",
    "\n",
    "# Constants matrix B\n",
    "B = np.array([-13, 5])\n",
    "\n",
    "solve_system_of_linear_equations(A, B)"
   ]
  },
  {
   "cell_type": "code",
   "execution_count": null,
   "metadata": {},
   "outputs": [],
   "source": []
  }
 ],
 "metadata": {
  "kernelspec": {
   "display_name": "venv",
   "language": "python",
   "name": "python3"
  },
  "language_info": {
   "codemirror_mode": {
    "name": "ipython",
    "version": 3
   },
   "file_extension": ".py",
   "mimetype": "text/x-python",
   "name": "python",
   "nbconvert_exporter": "python",
   "pygments_lexer": "ipython3",
   "version": "3.12.4"
  }
 },
 "nbformat": 4,
 "nbformat_minor": 2
}
