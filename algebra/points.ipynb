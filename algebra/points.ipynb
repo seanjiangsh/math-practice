{
 "cells": [
  {
   "cell_type": "markdown",
   "metadata": {},
   "source": [
    "# Points"
   ]
  },
  {
   "cell_type": "markdown",
   "metadata": {},
   "source": [
    "## Distance between two points"
   ]
  },
  {
   "cell_type": "markdown",
   "metadata": {},
   "source": [
    "**Pythagorean Theorem:** `a^2 + b^2 = c^2`\n",
    "\n",
    "Using Pythagorean Theorem to find the length c of the hypotenuse.\n",
    "\n",
    "**Distance formula:** `d = sqrt((x2-x1)^2 + (y2-y1)^2)`"
   ]
  },
  {
   "cell_type": "code",
   "execution_count": 146,
   "metadata": {},
   "outputs": [],
   "source": [
    "from sympy import sqrt, simplify, Float\n",
    "from sympy import N  # For numerical evaluation\n",
    "from typing import Tuple\n",
    "\n",
    "def get_distance_between_points(p1: Tuple[float, float], p2: Tuple[float, float]) -> float:\n",
    "    # Extracting coordinates from the tuples\n",
    "    x1, y1 = p1\n",
    "    x2, y2 = p2\n",
    "    \n",
    "    # Distance formula using sympy to preserve symbolic representation\n",
    "    distance = sqrt((x2 - x1)**2 + (y2 - y1)**2)\n",
    "            \n",
    "    # Simplify the result\n",
    "    distance_simplified = simplify(distance)\n",
    "\n",
    "    # Check if the distance is effectively an integer\n",
    "    rounded_distance = N(distance_simplified, 5)  # Round to 5 decimal places\n",
    "    \n",
    "    if abs(rounded_distance - round(rounded_distance, 0)) < 1e-5:\n",
    "        # Return as an integer if the decimal places are all zeros\n",
    "        return int(rounded_distance)\n",
    "    else:\n",
    "        # Return the simplified symbolic expression\n",
    "        return distance_simplified"
   ]
  },
  {
   "cell_type": "code",
   "execution_count": 147,
   "metadata": {},
   "outputs": [
    {
     "name": "stdout",
     "output_type": "stream",
     "text": [
      "3\n"
     ]
    }
   ],
   "source": [
    "# (3, 2**0.5), (2, -2**0.5)\n",
    "d = get_distance_between_points((3, 2**0.5), (2, -2**0.5))\n",
    "print(d)"
   ]
  },
  {
   "cell_type": "code",
   "execution_count": 148,
   "metadata": {},
   "outputs": [
    {
     "name": "stdout",
     "output_type": "stream",
     "text": [
      "2*sqrt(6)\n"
     ]
    }
   ],
   "source": [
    "# (7, sqrt(5)), (5, -sqrt(5))\n",
    "d = get_distance_between_points((7, sqrt(5)), (5, -sqrt(5)))\n",
    "print(d)"
   ]
  },
  {
   "cell_type": "code",
   "execution_count": 149,
   "metadata": {},
   "outputs": [
    {
     "name": "stdout",
     "output_type": "stream",
     "text": [
      "3*sqrt(2)\n"
     ]
    }
   ],
   "source": [
    "# (6, 10), (9, 13)\n",
    "d = get_distance_between_points((6, 10), (9, 13))\n",
    "print(d)"
   ]
  },
  {
   "cell_type": "markdown",
   "metadata": {},
   "source": [
    "## Midpoint between two points"
   ]
  },
  {
   "cell_type": "markdown",
   "metadata": {},
   "source": [
    "Midpoint Formula: `M = ((x1+x2)/2, (y1+y2)/2)`"
   ]
  },
  {
   "cell_type": "code",
   "execution_count": 150,
   "metadata": {},
   "outputs": [],
   "source": [
    "from sympy import Rational\n",
    "from typing import Tuple\n",
    "\n",
    "def get_midpoint_between_points(p1: Tuple[float, float], p2: Tuple[float, float]) -> Tuple[float, float]:\n",
    "    # Extracting coordinates from the tuples\n",
    "    x1, y1 = p1\n",
    "    x2, y2 = p2\n",
    "    \n",
    "    # Convert coordinates to Rational for exact arithmetic\n",
    "    x1, y1, x2, y2 = Rational(x1), Rational(y1), Rational(x2), Rational(y2)\n",
    "    \n",
    "    # Midpoint formula\n",
    "    midpoint_x = (x1 + x2) / 2\n",
    "    midpoint_y = (y1 + y2) / 2\n",
    "    \n",
    "    # Return the midpoint as a tuple\n",
    "    return (midpoint_x, midpoint_y)"
   ]
  },
  {
   "cell_type": "code",
   "execution_count": 151,
   "metadata": {},
   "outputs": [
    {
     "name": "stdout",
     "output_type": "stream",
     "text": [
      "(5/2, 0)\n"
     ]
    }
   ],
   "source": [
    "# (3, 2**0.5), (2, -2**0.5)\n",
    "m = get_midpoint_between_points((3, 2**0.5), (2, -2**0.5))\n",
    "print(m)"
   ]
  },
  {
   "cell_type": "code",
   "execution_count": null,
   "metadata": {},
   "outputs": [],
   "source": []
  }
 ],
 "metadata": {
  "kernelspec": {
   "display_name": "venv",
   "language": "python",
   "name": "python3"
  },
  "language_info": {
   "codemirror_mode": {
    "name": "ipython",
    "version": 3
   },
   "file_extension": ".py",
   "mimetype": "text/x-python",
   "name": "python",
   "nbconvert_exporter": "python",
   "pygments_lexer": "ipython3",
   "version": "3.12.4"
  }
 },
 "nbformat": 4,
 "nbformat_minor": 2
}
